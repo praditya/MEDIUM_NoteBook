{
 "cells": [
  {
   "cell_type": "markdown",
   "metadata": {},
   "source": [
    "# GOOGLECOLAB NOTEBOOK"
   ]
  },
  {
   "cell_type": "code",
   "execution_count": null,
   "metadata": {
    "colab": {
     "base_uri": "https://localhost:8080/",
     "height": 35
    },
    "colab_type": "code",
    "id": "cjjg6QobKFg_",
    "outputId": "451a2212-b042-42cd-c6be-60b822df83f6"
   },
   "outputs": [],
   "source": [
    "import numpy as np \n",
    "import pandas as pd\n",
    "import scipy as sp\n",
    "import matplotlib.pyplot as plt\n",
    "\n",
    "from keras.applications import vgg16\n",
    "from keras.preprocessing.image import load_img, img_to_array, array_to_img, ImageDataGenerator\n",
    "from keras.models import *\n",
    "from keras.layers import *\n",
    "from keras import optimizers\n",
    "from keras.utils import np_utils\n",
    "\n",
    "from PIL import Image\n",
    "import requests\n",
    "from io import BytesIO\n",
    "import os\n",
    "import pickle\n",
    "import tqdm\n",
    "import itertools\n",
    "\n",
    "from sklearn.model_selection import train_test_split\n",
    "from sklearn.metrics import classification_report, accuracy_score, confusion_matrix"
   ]
  },
  {
   "cell_type": "code",
   "execution_count": null,
   "metadata": {
    "colab": {
     "base_uri": "https://localhost:8080/",
     "height": 126
    },
    "colab_type": "code",
    "id": "RMLxcHFPKMF1",
    "outputId": "15d3a82f-30a6-4408-9a88-b20f160f1538"
   },
   "outputs": [],
   "source": [
    "### SET COLAB ENVIROMENT ###\n",
    "\n",
    "# from google.colab import drive\n",
    "# drive.mount('/content/gdrive', force_remount=True)"
   ]
  },
  {
   "cell_type": "code",
   "execution_count": null,
   "metadata": {
    "colab": {
     "base_uri": "https://localhost:8080/",
     "height": 212
    },
    "colab_type": "code",
    "id": "L7atHshIKU4k",
    "outputId": "92b32f0d-89c7-4590-aebe-33085566fa52"
   },
   "outputs": [],
   "source": [
    "### READ DATA ###\n",
    "\n",
    "df = pd.read_json('Crack.json', lines=True)\n",
    "df['label'] = df.annotation.apply(lambda x: x['labels'][0] if len(x['labels'])==1 else 'Crack')\n",
    "print(df.shape)\n",
    "df.head()"
   ]
  },
  {
   "cell_type": "code",
   "execution_count": null,
   "metadata": {
    "colab": {
     "base_uri": "https://localhost:8080/",
     "height": 50
    },
    "colab_type": "code",
    "id": "bW_22gl6KcmI",
    "outputId": "8d0fbf23-e624-41b2-d62e-31abcedd0a9d"
   },
   "outputs": [],
   "source": [
    "### GET AND PREPARE IMAGES ###\n",
    "\n",
    "images = []\n",
    "\n",
    "for url in tqdm.tqdm(df['content']):\n",
    "    \n",
    "    response = requests.get(url)\n",
    "    img = Image.open(BytesIO(response.content))\n",
    "    img = img.resize((224, 224))\n",
    "    numpy_img = img_to_array(img)\n",
    "    img_batch = np.expand_dims(numpy_img, axis=0)\n",
    "    images.append(img_batch.astype('float16'))\n",
    "    \n",
    "images = np.vstack(images)\n",
    "print(images.shape)"
   ]
  },
  {
   "cell_type": "code",
   "execution_count": null,
   "metadata": {
    "colab": {
     "base_uri": "https://localhost:8080/",
     "height": 258
    },
    "colab_type": "code",
    "id": "dTqHV1xuzS4P",
    "outputId": "3c3c1dfb-f586-46e5-ac02-9a95c3a0659b"
   },
   "outputs": [],
   "source": [
    "### RANDOM IMAGES PLOT ###\n",
    "\n",
    "random_id = np.random.randint(0,images.shape[0],4)\n",
    "f, axes = plt.subplots(1, 4, sharex=True, sharey=True, figsize = (16,10))\n",
    "\n",
    "for ax, img, title in zip(axes.ravel(), images[random_id], df['label'][random_id]):\n",
    "    ax.imshow(array_to_img(img))\n",
    "    ax.set_title(title)"
   ]
  },
  {
   "cell_type": "code",
   "execution_count": null,
   "metadata": {
    "colab": {
     "base_uri": "https://localhost:8080/",
     "height": 304
    },
    "colab_type": "code",
    "id": "sOoLRmC5KsHr",
    "outputId": "228b1faf-4467-478a-eb50-175882b8e0d6"
   },
   "outputs": [],
   "source": [
    "### IMPORT VGG16 ###\n",
    "\n",
    "vgg_conv = vgg16.VGG16(weights='imagenet', include_top=False, input_shape = (224, 224, 3))"
   ]
  },
  {
   "cell_type": "code",
   "execution_count": null,
   "metadata": {
    "colab": {
     "base_uri": "https://localhost:8080/",
     "height": 355
    },
    "colab_type": "code",
    "id": "l_ePyZUdK7OB",
    "outputId": "94a127c6-09e4-43cf-9016-05bca52d105d"
   },
   "outputs": [],
   "source": [
    "# Freeze the layers except the last 2 convolutional blocks\n",
    "for layer in vgg_conv.layers[:-8]:\n",
    "    layer.trainable = False\n",
    "\n",
    "# Check the trainable status of the individual layers\n",
    "for layer in vgg_conv.layers:\n",
    "    print(layer, layer.trainable)"
   ]
  },
  {
   "cell_type": "code",
   "execution_count": null,
   "metadata": {
    "colab": {},
    "colab_type": "code",
    "id": "nZ5TdFYqP0SN"
   },
   "outputs": [],
   "source": [
    "### ENCODE LABEL ###\n",
    "\n",
    "Y = np_utils.to_categorical((df.label.values == 'Crack')+0)"
   ]
  },
  {
   "cell_type": "code",
   "execution_count": null,
   "metadata": {
    "colab": {},
    "colab_type": "code",
    "id": "Uc80_qVILBq_"
   },
   "outputs": [],
   "source": [
    "### CREATE TRAIN TEST ###\n",
    "\n",
    "X_train, X_test, y_train, y_test = train_test_split(images, Y, random_state = 42, test_size=0.2)"
   ]
  },
  {
   "cell_type": "code",
   "execution_count": null,
   "metadata": {
    "colab": {
     "base_uri": "https://localhost:8080/",
     "height": 944
    },
    "colab_type": "code",
    "id": "e6sdD6OXK9iH",
    "outputId": "2da886cf-2c45-4156-bc16-c59585db0a44"
   },
   "outputs": [],
   "source": [
    "### MODIFY VGG STRUCTURE ###\n",
    "\n",
    "x = vgg_conv.output\n",
    "x = GlobalAveragePooling2D()(x)\n",
    "x = Dense(2, activation=\"softmax\")(x)\n",
    "\n",
    "model = Model(vgg_conv.input, x)\n",
    "model.compile(loss = \"categorical_crossentropy\", optimizer = optimizers.SGD(lr=0.0001, momentum=0.9), metrics=[\"accuracy\"])\n",
    "\n",
    "model.summary()"
   ]
  },
  {
   "cell_type": "code",
   "execution_count": null,
   "metadata": {
    "colab": {},
    "colab_type": "code",
    "id": "DqaEzJ42Y_iD"
   },
   "outputs": [],
   "source": [
    "### INITIALIZE TRAIN GENERATOR ##\n",
    "\n",
    "train_datagen = ImageDataGenerator(\n",
    "rescale = 1./255,\n",
    "horizontal_flip = True,\n",
    "fill_mode = \"nearest\",\n",
    "zoom_range = 0.3,\n",
    "width_shift_range = 0.3,\n",
    "height_shift_range=0.3,\n",
    "rotation_range=30)"
   ]
  },
  {
   "cell_type": "code",
   "execution_count": null,
   "metadata": {
    "colab": {},
    "colab_type": "code",
    "id": "T587IlDZZPd7"
   },
   "outputs": [],
   "source": [
    "train_datagen.fit(X_train)"
   ]
  },
  {
   "cell_type": "code",
   "execution_count": null,
   "metadata": {
    "colab": {
     "base_uri": "https://localhost:8080/",
     "height": 819
    },
    "colab_type": "code",
    "id": "mkYom7tQaCws",
    "outputId": "8e5434b6-cbf6-4e11-87bc-e7a45003fbd5"
   },
   "outputs": [],
   "source": [
    "model.fit_generator(train_datagen.flow(X_train, y_train, batch_size=32),\n",
    "                    steps_per_epoch=len(X_train) / 32, epochs=20)"
   ]
  },
  {
   "cell_type": "code",
   "execution_count": null,
   "metadata": {
    "colab": {
     "base_uri": "https://localhost:8080/",
     "height": 177
    },
    "colab_type": "code",
    "id": "bBo77UciPPsr",
    "outputId": "be2669d3-d5ed-4323-daad-05c2890472c4"
   },
   "outputs": [],
   "source": [
    "print(classification_report(np.argmax(y_test,axis=1), np.argmax(model.predict(X_test/255),axis=1)))"
   ]
  },
  {
   "cell_type": "code",
   "execution_count": null,
   "metadata": {
    "colab": {},
    "colab_type": "code",
    "id": "t2qfQREsehHq"
   },
   "outputs": [],
   "source": []
  },
  {
   "cell_type": "code",
   "execution_count": null,
   "metadata": {
    "colab": {},
    "colab_type": "code",
    "id": "anLSuJiPArFX"
   },
   "outputs": [],
   "source": [
    "def plot_confusion_matrix(cm, classes, title='Confusion matrix', cmap=plt.cm.Blues):\n",
    "\n",
    "    cm = cm.astype('float') / cm.sum(axis=1)[:, np.newaxis]\n",
    "\n",
    "    plt.imshow(cm, interpolation='nearest', cmap=cmap)\n",
    "    plt.title(title, fontsize=25)\n",
    "    #plt.colorbar()\n",
    "    tick_marks = np.arange(len(classes))\n",
    "    plt.xticks(tick_marks, classes, rotation=90, fontsize=15)\n",
    "    plt.yticks(tick_marks, classes, fontsize=15)\n",
    "\n",
    "    fmt = '.2f'\n",
    "    thresh = cm.max() / 2.\n",
    "    for i, j in itertools.product(range(cm.shape[0]), range(cm.shape[1])):\n",
    "        plt.text(j, i, format(cm[i, j], fmt),\n",
    "                 horizontalalignment=\"center\",\n",
    "                 color=\"white\" if cm[i, j] > thresh else \"black\", fontsize = 14)\n",
    "\n",
    "    plt.ylabel('True label', fontsize=20)\n",
    "    plt.xlabel('Predicted label', fontsize=20)"
   ]
  },
  {
   "cell_type": "code",
   "execution_count": null,
   "metadata": {
    "colab": {
     "base_uri": "https://localhost:8080/",
     "height": 533
    },
    "colab_type": "code",
    "id": "pmhjQvg7ArMP",
    "outputId": "7d52150e-fef3-414d-fc5a-302df31a24e8"
   },
   "outputs": [],
   "source": [
    "cnf_matrix = confusion_matrix(np.argmax(y_test,axis=1), np.argmax(model.predict(X_test/255),axis=1))\n",
    "plt.figure(figsize=(7,7))\n",
    "plot_confusion_matrix(cnf_matrix, classes=df.label.unique(), title=\"Confusion matrix\")\n",
    "plt.show()"
   ]
  },
  {
   "cell_type": "code",
   "execution_count": null,
   "metadata": {
    "colab": {},
    "colab_type": "code",
    "id": "6dhE1eBoAvJG"
   },
   "outputs": [],
   "source": []
  },
  {
   "cell_type": "code",
   "execution_count": null,
   "metadata": {
    "colab": {},
    "colab_type": "code",
    "id": "eUeeyCLDAvOF"
   },
   "outputs": [],
   "source": []
  },
  {
   "cell_type": "code",
   "execution_count": null,
   "metadata": {
    "colab": {},
    "colab_type": "code",
    "id": "wOq6xGIOabOa"
   },
   "outputs": [],
   "source": [
    "### CREATE FUNCTION TO DRAW ANOMALIES ###\n",
    "\n",
    "def plot_activation(img):\n",
    "  \n",
    "    pred = model.predict(img[np.newaxis,:,:,:])\n",
    "    pred_class = np.argmax(pred)\n",
    "  \n",
    "    weights = model.layers[-1].get_weights()[0]\n",
    "    class_weights = weights[:, pred_class]\n",
    "  \n",
    "    intermediate = Model(model.input, model.get_layer(\"block5_conv3\").output)\n",
    "    conv_output = intermediate.predict(img[np.newaxis,:,:,:])\n",
    "    conv_output = np.squeeze(conv_output)\n",
    "  \n",
    "    h = int(img.shape[0]/conv_output.shape[0])\n",
    "    w = int(img.shape[1]/conv_output.shape[1])\n",
    "  \n",
    "    activation_maps = sp.ndimage.zoom(conv_output, (h, w, 1), order=1)\n",
    "    out = np.dot(activation_maps.reshape((img.shape[0]*img.shape[1], 512)), class_weights).reshape(img.shape[0],img.shape[1])\n",
    "  \n",
    "    plt.imshow(img.astype('float32').reshape(img.shape[0],img.shape[1],3))\n",
    "    plt.imshow(out, cmap='jet', alpha=0.35)\n",
    "    plt.title('Crack' if pred_class == 1 else 'No Crack')"
   ]
  },
  {
   "cell_type": "code",
   "execution_count": null,
   "metadata": {
    "colab": {
     "base_uri": "https://localhost:8080/",
     "height": 281
    },
    "colab_type": "code",
    "id": "aqtBtcwv9QOa",
    "outputId": "f90a5a68-27a6-4fc0-ca13-c0d4a3b55ebb"
   },
   "outputs": [],
   "source": [
    "plot_activation(X_test[200]/255)"
   ]
  },
  {
   "cell_type": "code",
   "execution_count": null,
   "metadata": {
    "colab": {
     "base_uri": "https://localhost:8080/",
     "height": 281
    },
    "colab_type": "code",
    "id": "FmtsS2iNHN7M",
    "outputId": "2ba69474-c86d-4009-c680-fb6240c48f0d"
   },
   "outputs": [],
   "source": [
    "plot_activation(X_test[100]/255)"
   ]
  },
  {
   "cell_type": "code",
   "execution_count": null,
   "metadata": {
    "colab": {
     "base_uri": "https://localhost:8080/",
     "height": 281
    },
    "colab_type": "code",
    "id": "iUTOY9YeHSI6",
    "outputId": "721ee7e4-1bf7-45c1-ac38-06a11e1a4001"
   },
   "outputs": [],
   "source": [
    "plot_activation(X_test[134]/255)"
   ]
  }
 ],
 "metadata": {
  "accelerator": "GPU",
  "colab": {
   "collapsed_sections": [],
   "name": "Crack2.ipynb",
   "provenance": [],
   "version": "0.3.2"
  },
  "kernelspec": {
   "display_name": "Python 3",
   "language": "python",
   "name": "python3"
  },
  "language_info": {
   "codemirror_mode": {
    "name": "ipython",
    "version": 3
   },
   "file_extension": ".py",
   "mimetype": "text/x-python",
   "name": "python",
   "nbconvert_exporter": "python",
   "pygments_lexer": "ipython3",
   "version": "3.5.2"
  }
 },
 "nbformat": 4,
 "nbformat_minor": 1
}
